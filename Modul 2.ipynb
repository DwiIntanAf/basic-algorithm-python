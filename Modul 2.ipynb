{
 "cells": [
  {
   "cell_type": "code",
   "execution_count": 15,
   "metadata": {},
   "outputs": [
    {
     "name": "stdout",
     "output_type": "stream",
     "text": [
      "Saya Dwi Intan, IPK saya saat ini 3.5\n"
     ]
    }
   ],
   "source": [
    "IPK = 3.50\n",
    "print (\"Saya Dwi Intan, IPK saya saat ini\", IPK)"
   ]
  },
  {
   "cell_type": "code",
   "execution_count": 17,
   "metadata": {},
   "outputs": [
    {
     "name": "stdout",
     "output_type": "stream",
     "text": [
      "Saya Dwi Intan, saya membuat program menghitung balok\n",
      "panjang =  5\n",
      "lebar =  7\n",
      "tinggi =  10\n",
      "sehingga volume balok =  350\n"
     ]
    }
   ],
   "source": [
    "p = 5\n",
    "l = 7\n",
    "t = 10\n",
    "V = p*l*t\n",
    "print (\"Saya Dwi Intan, saya membuat program menghitung balok\")\n",
    "print (\"panjang = \",p)\n",
    "print (\"lebar = \",l)\n",
    "print (\"tinggi = \",t)\n",
    "print (\"sehingga volume balok = \",V)"
   ]
  },
  {
   "cell_type": "code",
   "execution_count": null,
   "metadata": {},
   "outputs": [],
   "source": []
  }
 ],
 "metadata": {
  "kernelspec": {
   "display_name": "Python 3",
   "language": "python",
   "name": "python3"
  },
  "language_info": {
   "codemirror_mode": {
    "name": "ipython",
    "version": 3
   },
   "file_extension": ".py",
   "mimetype": "text/x-python",
   "name": "python",
   "nbconvert_exporter": "python",
   "pygments_lexer": "ipython3",
   "version": "3.8.3"
  }
 },
 "nbformat": 4,
 "nbformat_minor": 4
}
